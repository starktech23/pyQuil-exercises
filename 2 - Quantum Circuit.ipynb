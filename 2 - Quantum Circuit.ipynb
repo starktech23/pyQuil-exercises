{
 "cells": [
  {
   "cell_type": "markdown",
   "metadata": {},
   "source": [
    "# Bell States\n",
    "\n",
    "## Order of solution\n",
    "\n",
    "* Two-bit string message 00 returns |00> and |11> with equal probability when passed through a bell-state circuit\n",
    "* Approach for 01\n",
    "* Approach for 10\n",
    "* Approach for 11\n",
    "\n",
    "### Condition: Using parametric native gates for Rigetti QPUs"
   ]
  },
  {
   "cell_type": "markdown",
   "metadata": {},
   "source": [
    "### For Bell state 00"
   ]
  },
  {
   "cell_type": "code",
   "execution_count": 1,
   "metadata": {},
   "outputs": [
    {
     "name": "stdout",
     "output_type": "stream",
     "text": [
      "DECLARE ro BIT[2]\n",
      "RX(4*pi) 0\n",
      "RZ(pi/2) 0\n",
      "RX(pi/2) 0\n",
      "RZ(pi/2) 0\n",
      "RX(4*pi) 1\n",
      "RZ(pi/2) 1\n",
      "RX(pi/2) 1\n",
      "RZ(pi/2) 1\n",
      "CZ 0 1\n",
      "RZ(pi/2) 1\n",
      "RX(pi/2) 1\n",
      "RZ(pi/2) 1\n",
      "MEASURE 0 ro[0]\n",
      "MEASURE 1 ro[1]\n",
      "\n",
      "[[0 0]\n",
      " [0 0]\n",
      " [1 1]\n",
      " [0 0]\n",
      " [0 0]\n",
      " [0 0]\n",
      " [1 1]\n",
      " [1 1]\n",
      " [0 0]\n",
      " [0 0]]\n",
      "{'00': 1.0, '01': 0.0, '10': 0.0, '11': 0.0}\n"
     ]
    }
   ],
   "source": [
    "import numpy as np\n",
    "\n",
    "from pyquil import Program\n",
    "from pyquil.gates import RX, RZ, CZ, MEASURE\n",
    "p = Program()\n",
    "ro = p.declare('ro', 'BIT', 2)\n",
    "\n",
    "# I(0)\n",
    "p += RX(4*np.pi, 0)\n",
    "\n",
    "# H(0)\n",
    "p += RZ(np.pi / 2, 0)\n",
    "p += RX(np.pi / 2, 0)\n",
    "p += RZ(np.pi / 2, 0)\n",
    "\n",
    "# I(1)\n",
    "p += RX(4*np.pi, 1)\n",
    "\n",
    "# CNOT(0,1)\n",
    "p += RZ(np.pi / 2, 1)\n",
    "p += RX(np.pi / 2, 1)\n",
    "p += RZ(np.pi / 2, 1)\n",
    "p += CZ(0,1)\n",
    "p += RZ(np.pi / 2, 1)\n",
    "p += RX(np.pi / 2, 1)\n",
    "p += RZ(np.pi / 2, 1)\n",
    "\n",
    "p += MEASURE(0, ro[0])\n",
    "p += MEASURE(1, ro[1])\n",
    "p.wrap_in_numshots_loop(10)\n",
    "\n",
    "print(p)\n",
    "\n",
    "from pyquil import get_qc\n",
    "\n",
    "qc = get_qc('8q-qvm')\n",
    "executable = qc.compile(p)\n",
    "result = qc.run(executable)\n",
    "print(result)\n",
    "\n",
    "# Use to generate wavefunction and create equal probability model for |00> and |11>\n",
    "from pyquil.api import WavefunctionSimulator\n",
    "wfn = WavefunctionSimulator().wavefunction(p)\n",
    "print (wfn.get_outcome_probs())"
   ]
  },
  {
   "cell_type": "markdown",
   "metadata": {},
   "source": [
    "### Approach for Bell state 01"
   ]
  },
  {
   "cell_type": "code",
   "execution_count": 2,
   "metadata": {},
   "outputs": [],
   "source": [
    "# Z(1) in place of I(1)\n",
    "p += RZ(np.pi, 1)"
   ]
  },
  {
   "cell_type": "markdown",
   "metadata": {},
   "source": [
    "### Approach for Bell state 10"
   ]
  },
  {
   "cell_type": "code",
   "execution_count": 3,
   "metadata": {},
   "outputs": [],
   "source": [
    "# X(1) in place of I(1)\n",
    "p += RX(3*np.pi, 1)"
   ]
  },
  {
   "cell_type": "markdown",
   "metadata": {},
   "source": [
    "### Approach for Bell state 11"
   ]
  },
  {
   "cell_type": "code",
   "execution_count": 4,
   "metadata": {},
   "outputs": [],
   "source": [
    "# X(1).Z(1) in place of I(1)\n",
    "p += RZ(np.pi, 1)\n",
    "p += RX(3*np.pi, 1)"
   ]
  }
 ],
 "metadata": {
  "kernelspec": {
   "display_name": "Python 3",
   "language": "python",
   "name": "python3"
  },
  "language_info": {
   "codemirror_mode": {
    "name": "ipython",
    "version": 3
   },
   "file_extension": ".py",
   "mimetype": "text/x-python",
   "name": "python",
   "nbconvert_exporter": "python",
   "pygments_lexer": "ipython3",
   "version": "3.6.8"
  }
 },
 "nbformat": 4,
 "nbformat_minor": 2
}
