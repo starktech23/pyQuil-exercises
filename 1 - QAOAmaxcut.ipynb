{
 "cells": [
  {
   "cell_type": "markdown",
   "metadata": {},
   "source": [
    "# Maxcut problem"
   ]
  },
  {
   "cell_type": "markdown",
   "metadata": {},
   "source": [
    "## Solving maxcut problem on a random weighted graph using grove"
   ]
  },
  {
   "cell_type": "code",
   "execution_count": 1,
   "metadata": {},
   "outputs": [],
   "source": [
    "import numpy as np\n",
    "from grove.pyqaoa.maxcut_qaoa import maxcut_qaoa\n",
    "\n",
    "from pyquil.api import WavefunctionSimulator\n",
    "\n",
    "import pyquil.api as api\n",
    "qvm_connection = api.QVMConnection()"
   ]
  },
  {
   "cell_type": "code",
   "execution_count": 2,
   "metadata": {},
   "outputs": [],
   "source": [
    "graphx = [(0,1),(1,2),(2,0),(0,3)]"
   ]
  },
  {
   "cell_type": "code",
   "execution_count": 3,
   "metadata": {
    "scrolled": true
   },
   "outputs": [
    {
     "name": "stdout",
     "output_type": "stream",
     "text": [
      "WARNING: Fast method for expectation will be used. Noise\n",
      "                     models will be ineffective\n",
      "\tParameters: [1.11634178 1.68516146] \n",
      "\tE => -1.6227002711153107\n",
      "\tParameters: [1.05143819 1.86151557] \n",
      "\tE => -1.8336476049495696\n",
      "\tParameters: [1.17475502 2.02807222] \n",
      "\tE => -2.0167903760385504\n",
      "\tParameters: [1.10660624 2.46405877] \n",
      "\tE => -2.114727345076276\n",
      "\tParameters: [1.10660624 2.46405877] \n",
      "\tE => -2.060059837733875\n",
      "\tParameters: [1.10660624 2.46405877] \n",
      "\tE => -2.108547708266345\n",
      "\tParameters: [1.10660624 2.46405877] \n",
      "\tE => -2.1116960126530873\n",
      "\tParameters: [1.02872193 2.42486896] \n",
      "\tE => -2.1230466040647404\n",
      "\tParameters: [1.02872193 2.42486896] \n",
      "\tE => -2.1248882246962797\n",
      "\tParameters: [1.02872193 2.34648936] \n",
      "\tE => -2.128418098021486\n",
      "\tParameters: [0.97679906 2.42486896] \n",
      "\tE => -2.1258787474200984\n",
      "\tParameters: [0.97679906 2.42486896] \n",
      "\tE => -2.1286215116522427\n",
      "\tParameters: [1.0027605  2.36608426] \n",
      "\tE => -2.1299751134269997\n",
      "\tParameters: [0.98328942 2.37098299] \n",
      "\tE => -2.130180711090373\n",
      "\tParameters: [0.98491201 2.39670129] \n",
      "\tE => -2.1304927680222927\n",
      "\tParameters: [0.98491201 2.39670129] \n",
      "\tE => -2.130300909318365\n",
      "\tParameters: [0.98491201 2.39670129] \n",
      "\tE => -2.130472620161987\n",
      "\tParameters: [0.98491201 2.39670129] \n",
      "\tE => -2.130489903707654\n",
      "\tParameters: [0.98344154 2.38809025] \n",
      "\tE => -2.1305183362273987\n",
      "Values of betas: [0.98344154]\n",
      "Values of gammas: [2.38809025]\n"
     ]
    }
   ],
   "source": [
    "inst_maxcut = maxcut_qaoa(graph=graphx)\n",
    "betas, gammas = inst_maxcut.get_angles()\n",
    "print(\"Values of betas:\", betas)\n",
    "print(\"Values of gammas:\", gammas)"
   ]
  },
  {
   "cell_type": "code",
   "execution_count": 4,
   "metadata": {},
   "outputs": [
    {
     "name": "stdout",
     "output_type": "stream",
     "text": [
      "[0.98344154 2.38809025]\n"
     ]
    }
   ],
   "source": [
    "angles = np.hstack((betas, gammas))\n",
    "print(angles)"
   ]
  },
  {
   "cell_type": "code",
   "execution_count": 5,
   "metadata": {},
   "outputs": [
    {
     "name": "stdout",
     "output_type": "stream",
     "text": [
      "H 0\n",
      "H 1\n",
      "H 2\n",
      "H 3\n",
      "CNOT 0 1\n",
      "RZ(2.388090254289451) 1\n",
      "CNOT 0 1\n",
      "X 0\n",
      "PHASE(1.1940451271447254) 0\n",
      "X 0\n",
      "PHASE(1.1940451271447254) 0\n",
      "CNOT 0 2\n",
      "RZ(2.388090254289451) 2\n",
      "CNOT 0 2\n",
      "X 0\n",
      "PHASE(1.1940451271447254) 0\n",
      "X 0\n",
      "PHASE(1.1940451271447254) 0\n",
      "CNOT 0 3\n",
      "RZ(2.388090254289451) 3\n",
      "CNOT 0 3\n",
      "X 0\n",
      "PHASE(1.1940451271447254) 0\n",
      "X 0\n",
      "PHASE(1.1940451271447254) 0\n",
      "CNOT 1 2\n",
      "RZ(2.388090254289451) 2\n",
      "CNOT 1 2\n",
      "X 0\n",
      "PHASE(1.1940451271447254) 0\n",
      "X 0\n",
      "PHASE(1.1940451271447254) 0\n",
      "H 0\n",
      "RZ(-1.9668830742312273) 0\n",
      "H 0\n",
      "H 1\n",
      "RZ(-1.9668830742312273) 1\n",
      "H 1\n",
      "H 2\n",
      "RZ(-1.9668830742312273) 2\n",
      "H 2\n",
      "H 3\n",
      "RZ(-1.9668830742312273) 3\n",
      "H 3\n",
      "\n",
      "Number of gates: 44\n"
     ]
    }
   ],
   "source": [
    "param_prog = inst_maxcut.get_parameterized_program()\n",
    "prog = param_prog(angles)\n",
    "print(prog)\n",
    "print(\"Number of gates:\", len(prog))"
   ]
  },
  {
   "cell_type": "markdown",
   "metadata": {},
   "source": [
    "### Noisy-QVM Simulation, method slower for trials > 1"
   ]
  },
  {
   "cell_type": "code",
   "execution_count": 6,
   "metadata": {},
   "outputs": [],
   "source": [
    "qubits = [0, 1, 2, 3]\n",
    "measurements = qvm_connection.run_and_measure(prog, qubits, trials=1000)"
   ]
  },
  {
   "cell_type": "code",
   "execution_count": 7,
   "metadata": {},
   "outputs": [
    {
     "data": {
      "text/plain": [
       "[((0, 1, 1, 0), 174),\n",
       " ((1, 0, 0, 1), 168),\n",
       " ((1, 0, 1, 1), 100),\n",
       " ((1, 1, 0, 1), 96),\n",
       " ((0, 1, 0, 0), 92),\n",
       " ((0, 0, 1, 0), 84),\n",
       " ((1, 0, 0, 0), 60),\n",
       " ((0, 1, 1, 1), 48),\n",
       " ((0, 0, 0, 1), 35),\n",
       " ((0, 0, 1, 1), 30),\n",
       " ((1, 1, 0, 0), 29),\n",
       " ((0, 1, 0, 1), 27),\n",
       " ((1, 0, 1, 0), 26),\n",
       " ((1, 1, 1, 0), 26),\n",
       " ((1, 1, 1, 1), 4),\n",
       " ((0, 0, 0, 0), 1)]"
      ]
     },
     "execution_count": 7,
     "metadata": {},
     "output_type": "execute_result"
    }
   ],
   "source": [
    "# Result in decreasing order\n",
    "from collections import Counter\n",
    "measurements = [tuple(measurement) for measurement in measurements]\n",
    "measurements_counter = Counter(measurements)\n",
    "measurements_counter.most_common()"
   ]
  },
  {
   "cell_type": "code",
   "execution_count": 8,
   "metadata": {},
   "outputs": [
    {
     "name": "stdout",
     "output_type": "stream",
     "text": [
      "[-0.02261538-0.05950891j  0.17965025+0.14639111j  0.03650877-0.2959579j\n",
      " -0.11353684+0.13334859j  0.03650877-0.2959579j  -0.11353684+0.13334859j\n",
      " -0.25667831-0.30900042j -0.16175255+0.12458291j -0.16175255+0.12458291j\n",
      " -0.25667831-0.30900042j -0.11353684+0.13334859j  0.03650877-0.2959579j\n",
      " -0.11353684+0.13334859j  0.03650877-0.2959579j   0.17965025+0.14639111j\n",
      " -0.02261538-0.05950891j]\n"
     ]
    }
   ],
   "source": [
    "wf = qvm_connection.wavefunction(prog)\n",
    "wf = wf.amplitudes\n",
    "print(wf)"
   ]
  },
  {
   "cell_type": "code",
   "execution_count": 9,
   "metadata": {},
   "outputs": [
    {
     "name": "stdout",
     "output_type": "stream",
     "text": [
      "Probability amplitudes for all the possible states:\n",
      "0000 (-0.022615381822590513-0.05950891357590428j)\n",
      "0001 (0.17965024629531914+0.1463911050673306j)\n",
      "0010 (0.03650877274000856-0.2959579035347011j)\n",
      "0011 (-0.1135368402945828+0.13334859243649316j)\n",
      "0100 (0.03650877274000858-0.29595790353470103j)\n",
      "0101 (-0.11353684029458287+0.13334859243649322j)\n",
      "0110 (-0.2566783138498933-0.3090004161655386j)\n",
      "0111 (-0.161752548958261+0.12458290920675126j)\n",
      "1000 (-0.161752548958261+0.12458290920675126j)\n",
      "1001 (-0.2566783138498933-0.3090004161655386j)\n",
      "1010 (-0.11353684029458287+0.13334859243649322j)\n",
      "1011 (0.03650877274000858-0.29595790353470103j)\n",
      "1100 (-0.1135368402945828+0.13334859243649316j)\n",
      "1101 (0.03650877274000856-0.2959579035347011j)\n",
      "1110 (0.17965024629531914+0.1463911050673306j)\n",
      "1111 (-0.022615381822590513-0.05950891357590428j)\n"
     ]
    }
   ],
   "source": [
    "print(\"Probability amplitudes for all the possible states:\")\n",
    "for state_index in range(inst_maxcut.nstates):\n",
    "    print(inst_maxcut.states[state_index], wf[state_index])"
   ]
  },
  {
   "cell_type": "code",
   "execution_count": 10,
   "metadata": {},
   "outputs": [
    {
     "name": "stdout",
     "output_type": "stream",
     "text": [
      "Probabilities of measuring given states:\n",
      "0000 0.004052766289966002\n",
      "0001 0.05370456663680306\n",
      "0010 0.08892397115163703\n",
      "0011 0.030672461208871564\n",
      "0100 0.088923971151637\n",
      "0101 0.03067246120887159\n",
      "0110 0.16136501399130038\n",
      "0111 0.041684788360912245\n",
      "1000 0.041684788360912245\n",
      "1001 0.16136501399130038\n",
      "1010 0.03067246120887159\n",
      "1011 0.088923971151637\n",
      "1100 0.030672461208871564\n",
      "1101 0.08892397115163703\n",
      "1110 0.05370456663680306\n",
      "1111 0.004052766289966002\n"
     ]
    }
   ],
   "source": [
    "print(\"Probabilities of measuring given states:\")\n",
    "states_with_probs = []\n",
    "for state_index in range(inst_maxcut.nstates):\n",
    "    states_with_probs.append([inst_maxcut.states[state_index], np.real(np.conj(wf[state_index])*wf[state_index])])\n",
    "    print(states_with_probs[-1][0], states_with_probs[-1][1])"
   ]
  },
  {
   "cell_type": "code",
   "execution_count": 11,
   "metadata": {},
   "outputs": [],
   "source": [
    "%matplotlib inline\n",
    "import matplotlib.pyplot as plt\n",
    "\n",
    "def plot_state_histogram(states_with_probs):\n",
    "    states = np.array(states_with_probs)[:,0]\n",
    "    probs = np.array(states_with_probs)[:,1].astype(float)\n",
    "    n = len(states_with_probs)\n",
    "    plt.barh(range(n), probs, tick_label=states)\n",
    "    plt.show()"
   ]
  },
  {
   "cell_type": "code",
   "execution_count": 12,
   "metadata": {},
   "outputs": [
    {
     "data": {
      "image/png": "[encoded data removed]",
      "text/plain": [
       "<Figure size 432x288 with 1 Axes>"
      ]
     },
     "metadata": {
      "needs_background": "light"
     },
     "output_type": "display_data"
    }
   ],
   "source": [
    "plot_state_histogram(states_with_probs)"
   ]
  },
  {
   "cell_type": "markdown",
   "metadata": {},
   "source": [
    "### For faster noise-free simulation"
   ]
  },
  {
   "cell_type": "code",
   "execution_count": 13,
   "metadata": {},
   "outputs": [],
   "source": [
    "measurements = WavefunctionSimulator().run_and_measure(prog, trials=1000)"
   ]
  },
  {
   "cell_type": "code",
   "execution_count": 14,
   "metadata": {},
   "outputs": [
    {
     "data": {
      "text/plain": [
       "[((0, 1, 1, 0), 163),\n",
       " ((1, 0, 0, 1), 151),\n",
       " ((0, 0, 1, 0), 114),\n",
       " ((1, 1, 0, 1), 94),\n",
       " ((1, 0, 1, 1), 93),\n",
       " ((0, 1, 0, 0), 86),\n",
       " ((1, 0, 0, 0), 47),\n",
       " ((1, 1, 1, 0), 43),\n",
       " ((0, 0, 0, 1), 42),\n",
       " ((0, 1, 1, 1), 41),\n",
       " ((0, 1, 0, 1), 37),\n",
       " ((1, 0, 1, 0), 32),\n",
       " ((0, 0, 1, 1), 27),\n",
       " ((1, 1, 0, 0), 22),\n",
       " ((1, 1, 1, 1), 5),\n",
       " ((0, 0, 0, 0), 3)]"
      ]
     },
     "execution_count": 14,
     "metadata": {},
     "output_type": "execute_result"
    }
   ],
   "source": [
    "# Result in decreasing order\n",
    "from collections import Counter\n",
    "measurements = [tuple(measurement) for measurement in measurements]\n",
    "measurements_counter = Counter(measurements)\n",
    "measurements_counter.most_common()"
   ]
  },
  {
   "cell_type": "code",
   "execution_count": 15,
   "metadata": {},
   "outputs": [
    {
     "name": "stdout",
     "output_type": "stream",
     "text": [
      "[-0.02261538-0.05950891j  0.17965025+0.14639111j  0.03650877-0.2959579j\n",
      " -0.11353684+0.13334859j  0.03650877-0.2959579j  -0.11353684+0.13334859j\n",
      " -0.25667831-0.30900042j -0.16175255+0.12458291j -0.16175255+0.12458291j\n",
      " -0.25667831-0.30900042j -0.11353684+0.13334859j  0.03650877-0.2959579j\n",
      " -0.11353684+0.13334859j  0.03650877-0.2959579j   0.17965025+0.14639111j\n",
      " -0.02261538-0.05950891j]\n"
     ]
    }
   ],
   "source": [
    "wf = WavefunctionSimulator().wavefunction(prog)\n",
    "wf = wf.amplitudes\n",
    "print(wf)"
   ]
  },
  {
   "cell_type": "code",
   "execution_count": 16,
   "metadata": {},
   "outputs": [
    {
     "name": "stdout",
     "output_type": "stream",
     "text": [
      "Probability amplitudes for all the possible states:\n",
      "0000 (-0.022615381822590513-0.05950891357590428j)\n",
      "0001 (0.17965024629531914+0.1463911050673306j)\n",
      "0010 (0.03650877274000856-0.2959579035347011j)\n",
      "0011 (-0.1135368402945828+0.13334859243649316j)\n",
      "0100 (0.03650877274000858-0.29595790353470103j)\n",
      "0101 (-0.11353684029458287+0.13334859243649322j)\n",
      "0110 (-0.2566783138498933-0.3090004161655386j)\n",
      "0111 (-0.161752548958261+0.12458290920675126j)\n",
      "1000 (-0.161752548958261+0.12458290920675126j)\n",
      "1001 (-0.2566783138498933-0.3090004161655386j)\n",
      "1010 (-0.11353684029458287+0.13334859243649322j)\n",
      "1011 (0.03650877274000858-0.29595790353470103j)\n",
      "1100 (-0.1135368402945828+0.13334859243649316j)\n",
      "1101 (0.03650877274000856-0.2959579035347011j)\n",
      "1110 (0.17965024629531914+0.1463911050673306j)\n",
      "1111 (-0.022615381822590513-0.05950891357590428j)\n"
     ]
    }
   ],
   "source": [
    "print(\"Probability amplitudes for all the possible states:\")\n",
    "for state_index in range(inst_maxcut.nstates):\n",
    "    print(inst_maxcut.states[state_index], wf[state_index])"
   ]
  },
  {
   "cell_type": "code",
   "execution_count": 17,
   "metadata": {},
   "outputs": [
    {
     "name": "stdout",
     "output_type": "stream",
     "text": [
      "Probabilities of measuring given states:\n",
      "0000 0.004052766289966002\n",
      "0001 0.05370456663680306\n",
      "0010 0.08892397115163703\n",
      "0011 0.030672461208871564\n",
      "0100 0.088923971151637\n",
      "0101 0.03067246120887159\n",
      "0110 0.16136501399130038\n",
      "0111 0.041684788360912245\n",
      "1000 0.041684788360912245\n",
      "1001 0.16136501399130038\n",
      "1010 0.03067246120887159\n",
      "1011 0.088923971151637\n",
      "1100 0.030672461208871564\n",
      "1101 0.08892397115163703\n",
      "1110 0.05370456663680306\n",
      "1111 0.004052766289966002\n"
     ]
    }
   ],
   "source": [
    "print(\"Probabilities of measuring given states:\")\n",
    "states_with_probs = []\n",
    "for state_index in range(inst_maxcut.nstates):\n",
    "    states_with_probs.append([inst_maxcut.states[state_index], np.real(np.conj(wf[state_index])*wf[state_index])])\n",
    "    print(states_with_probs[-1][0], states_with_probs[-1][1])"
   ]
  },
  {
   "cell_type": "code",
   "execution_count": 18,
   "metadata": {},
   "outputs": [],
   "source": [
    "%matplotlib inline\n",
    "import matplotlib.pyplot as plt\n",
    "\n",
    "def plot_state_histogram(states_with_probs):\n",
    "    states = np.array(states_with_probs)[:,0]\n",
    "    probs = np.array(states_with_probs)[:,1].astype(float)\n",
    "    n = len(states_with_probs)\n",
    "    plt.barh(range(n), probs, tick_label=states)\n",
    "    plt.show()"
   ]
  },
  {
   "cell_type": "code",
   "execution_count": 19,
   "metadata": {},
   "outputs": [
    {
     "data": {
      "image/png": "[encoded data removed]",
      "text/plain": [
       "<Figure size 432x288 with 1 Axes>"
      ]
     },
     "metadata": {
      "needs_background": "light"
     },
     "output_type": "display_data"
    }
   ],
   "source": [
    "plot_state_histogram(states_with_probs)"
   ]
  }
 ],
 "metadata": {
  "kernelspec": {
   "display_name": "Python 3",
   "language": "python",
   "name": "python3"
  },
  "language_info": {
   "codemirror_mode": {
    "name": "ipython",
    "version": 3
   },
   "file_extension": ".py",
   "mimetype": "text/x-python",
   "name": "python",
   "nbconvert_exporter": "python",
   "pygments_lexer": "ipython3",
   "version": "3.6.8"
  }
 },
 "nbformat": 4,
 "nbformat_minor": 2
}
